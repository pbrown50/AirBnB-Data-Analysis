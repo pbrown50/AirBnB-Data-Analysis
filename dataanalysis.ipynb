{
 "cells": [
  {
   "cell_type": "markdown",
   "metadata": {},
   "source": [
    "# AirBnB Data Analytics Project"
   ]
  },
  {
   "cell_type": "markdown",
   "metadata": {},
   "source": [
    "## Data Exploration"
   ]
  },
  {
   "cell_type": "markdown",
   "metadata": {},
   "source": [
    "### Import Libraries"
   ]
  },
  {
   "cell_type": "code",
   "execution_count": 99,
   "metadata": {},
   "outputs": [],
   "source": [
    "import pandas as pd\n",
    "import numpy as np\n",
    "import matplotlib.pyplot as plt\n",
    "import seaborn as sns\n",
    "\n",
    "pd.set_option(\"display.max_columns\", 200)"
   ]
  },
  {
   "cell_type": "markdown",
   "metadata": {},
   "source": [
    "### Load the Dataset"
   ]
  },
  {
   "cell_type": "code",
   "execution_count": 100,
   "metadata": {},
   "outputs": [],
   "source": [
    "df = pd.read_csv(\"data/market_analysis_2019.csv\", delimiter=\";\")"
   ]
  },
  {
   "cell_type": "markdown",
   "metadata": {},
   "source": [
    "### Understand the Data"
   ]
  },
  {
   "cell_type": "code",
   "execution_count": 101,
   "metadata": {},
   "outputs": [
    {
     "name": "stdout",
     "output_type": "stream",
     "text": [
      "<class 'pandas.core.frame.DataFrame'>\n",
      "RangeIndex: 29928 entries, 0 to 29927\n",
      "Data columns (total 14 columns):\n",
      " #   Column        Non-Null Count  Dtype  \n",
      "---  ------        --------------  -----  \n",
      " 0   unified_id    29928 non-null  object \n",
      " 1   month         29928 non-null  object \n",
      " 2   zipcode       29928 non-null  int64  \n",
      " 3   city          29928 non-null  object \n",
      " 4   host_type     29928 non-null  object \n",
      " 5   bedrooms      29928 non-null  int64  \n",
      " 6   bathrooms     29928 non-null  float64\n",
      " 7   guests        29928 non-null  object \n",
      " 8   revenue       29912 non-null  object \n",
      " 9   openness      29928 non-null  int64  \n",
      " 10  occupancy     29928 non-null  object \n",
      " 11  nightly rate  23486 non-null  object \n",
      " 12  lead time     21897 non-null  object \n",
      " 13  length stay   21897 non-null  object \n",
      "dtypes: float64(1), int64(3), object(10)\n",
      "memory usage: 3.2+ MB\n"
     ]
    }
   ],
   "source": [
    "df.shape\n",
    "\n",
    "df.info()"
   ]
  },
  {
   "cell_type": "code",
   "execution_count": 102,
   "metadata": {},
   "outputs": [
    {
     "data": {
      "text/html": [
       "<div>\n",
       "<style scoped>\n",
       "    .dataframe tbody tr th:only-of-type {\n",
       "        vertical-align: middle;\n",
       "    }\n",
       "\n",
       "    .dataframe tbody tr th {\n",
       "        vertical-align: top;\n",
       "    }\n",
       "\n",
       "    .dataframe thead th {\n",
       "        text-align: right;\n",
       "    }\n",
       "</style>\n",
       "<table border=\"1\" class=\"dataframe\">\n",
       "  <thead>\n",
       "    <tr style=\"text-align: right;\">\n",
       "      <th></th>\n",
       "      <th>unified_id</th>\n",
       "      <th>month</th>\n",
       "      <th>zipcode</th>\n",
       "      <th>city</th>\n",
       "      <th>host_type</th>\n",
       "      <th>bedrooms</th>\n",
       "      <th>bathrooms</th>\n",
       "      <th>guests</th>\n",
       "      <th>revenue</th>\n",
       "      <th>openness</th>\n",
       "      <th>occupancy</th>\n",
       "      <th>nightly rate</th>\n",
       "      <th>lead time</th>\n",
       "      <th>length stay</th>\n",
       "    </tr>\n",
       "  </thead>\n",
       "  <tbody>\n",
       "    <tr>\n",
       "      <th>0</th>\n",
       "      <td>AIR10000347</td>\n",
       "      <td>2019-1</td>\n",
       "      <td>92315</td>\n",
       "      <td>Big Bear Lake</td>\n",
       "      <td>2-5 Units</td>\n",
       "      <td>3</td>\n",
       "      <td>2.0</td>\n",
       "      <td>10</td>\n",
       "      <td>13948,75974</td>\n",
       "      <td>31</td>\n",
       "      <td>1</td>\n",
       "      <td>449,9599915</td>\n",
       "      <td>8</td>\n",
       "      <td>65</td>\n",
       "    </tr>\n",
       "    <tr>\n",
       "      <th>1</th>\n",
       "      <td>AIR10000347</td>\n",
       "      <td>2019-10</td>\n",
       "      <td>92315</td>\n",
       "      <td>Big Bear Lake</td>\n",
       "      <td>2-5 Units</td>\n",
       "      <td>3</td>\n",
       "      <td>2.0</td>\n",
       "      <td>10</td>\n",
       "      <td>449,9599915</td>\n",
       "      <td>31</td>\n",
       "      <td>0,032258065</td>\n",
       "      <td>449,9599915</td>\n",
       "      <td>8</td>\n",
       "      <td>1</td>\n",
       "    </tr>\n",
       "    <tr>\n",
       "      <th>2</th>\n",
       "      <td>AIR10000347</td>\n",
       "      <td>2019-11</td>\n",
       "      <td>92315</td>\n",
       "      <td>Big Bear Lake</td>\n",
       "      <td>2-5 Units</td>\n",
       "      <td>3</td>\n",
       "      <td>2.0</td>\n",
       "      <td>10</td>\n",
       "      <td>0</td>\n",
       "      <td>30</td>\n",
       "      <td>0</td>\n",
       "      <td>NaN</td>\n",
       "      <td>NaN</td>\n",
       "      <td>NaN</td>\n",
       "    </tr>\n",
       "    <tr>\n",
       "      <th>3</th>\n",
       "      <td>AIR10000347</td>\n",
       "      <td>2019-12</td>\n",
       "      <td>92315</td>\n",
       "      <td>Big Bear Lake</td>\n",
       "      <td>2-5 Units</td>\n",
       "      <td>3</td>\n",
       "      <td>2.0</td>\n",
       "      <td>10</td>\n",
       "      <td>4949,679932</td>\n",
       "      <td>31</td>\n",
       "      <td>0,35483871</td>\n",
       "      <td>449,9709029</td>\n",
       "      <td>41</td>\n",
       "      <td>2,4</td>\n",
       "    </tr>\n",
       "    <tr>\n",
       "      <th>4</th>\n",
       "      <td>AIR10000347</td>\n",
       "      <td>2019-2</td>\n",
       "      <td>92315</td>\n",
       "      <td>Big Bear Lake</td>\n",
       "      <td>2-5 Units</td>\n",
       "      <td>3</td>\n",
       "      <td>2.0</td>\n",
       "      <td>10</td>\n",
       "      <td>0</td>\n",
       "      <td>28</td>\n",
       "      <td>0</td>\n",
       "      <td>NaN</td>\n",
       "      <td>NaN</td>\n",
       "      <td>NaN</td>\n",
       "    </tr>\n",
       "    <tr>\n",
       "      <th>5</th>\n",
       "      <td>AIR10000347</td>\n",
       "      <td>2019-3</td>\n",
       "      <td>92315</td>\n",
       "      <td>Big Bear Lake</td>\n",
       "      <td>2-5 Units</td>\n",
       "      <td>3</td>\n",
       "      <td>2.0</td>\n",
       "      <td>10</td>\n",
       "      <td>899,9199829</td>\n",
       "      <td>31</td>\n",
       "      <td>0,064516129</td>\n",
       "      <td>449,9599915</td>\n",
       "      <td>8</td>\n",
       "      <td>1</td>\n",
       "    </tr>\n",
       "    <tr>\n",
       "      <th>6</th>\n",
       "      <td>AIR10000347</td>\n",
       "      <td>2019-4</td>\n",
       "      <td>92315</td>\n",
       "      <td>Big Bear Lake</td>\n",
       "      <td>2-5 Units</td>\n",
       "      <td>3</td>\n",
       "      <td>2.0</td>\n",
       "      <td>10</td>\n",
       "      <td>0</td>\n",
       "      <td>30</td>\n",
       "      <td>0</td>\n",
       "      <td>NaN</td>\n",
       "      <td>NaN</td>\n",
       "      <td>NaN</td>\n",
       "    </tr>\n",
       "    <tr>\n",
       "      <th>7</th>\n",
       "      <td>AIR10000347</td>\n",
       "      <td>2019-5</td>\n",
       "      <td>92315</td>\n",
       "      <td>Big Bear Lake</td>\n",
       "      <td>2-5 Units</td>\n",
       "      <td>3</td>\n",
       "      <td>2.0</td>\n",
       "      <td>10</td>\n",
       "      <td>0</td>\n",
       "      <td>31</td>\n",
       "      <td>0</td>\n",
       "      <td>NaN</td>\n",
       "      <td>NaN</td>\n",
       "      <td>NaN</td>\n",
       "    </tr>\n",
       "    <tr>\n",
       "      <th>8</th>\n",
       "      <td>AIR10000347</td>\n",
       "      <td>2019-6</td>\n",
       "      <td>92315</td>\n",
       "      <td>Big Bear Lake</td>\n",
       "      <td>2-5 Units</td>\n",
       "      <td>3</td>\n",
       "      <td>2.0</td>\n",
       "      <td>10</td>\n",
       "      <td>11248,99979</td>\n",
       "      <td>30</td>\n",
       "      <td>0,833333333</td>\n",
       "      <td>449,9599915</td>\n",
       "      <td>8</td>\n",
       "      <td>39</td>\n",
       "    </tr>\n",
       "    <tr>\n",
       "      <th>9</th>\n",
       "      <td>AIR10000347</td>\n",
       "      <td>2019-7</td>\n",
       "      <td>92315</td>\n",
       "      <td>Big Bear Lake</td>\n",
       "      <td>2-5 Units</td>\n",
       "      <td>3</td>\n",
       "      <td>2.0</td>\n",
       "      <td>10</td>\n",
       "      <td>6749,399872</td>\n",
       "      <td>31</td>\n",
       "      <td>0,483870968</td>\n",
       "      <td>449,9599915</td>\n",
       "      <td>8</td>\n",
       "      <td>1</td>\n",
       "    </tr>\n",
       "  </tbody>\n",
       "</table>\n",
       "</div>"
      ],
      "text/plain": [
       "    unified_id    month  zipcode           city  host_type  bedrooms  \\\n",
       "0  AIR10000347   2019-1    92315  Big Bear Lake  2-5 Units         3   \n",
       "1  AIR10000347  2019-10    92315  Big Bear Lake  2-5 Units         3   \n",
       "2  AIR10000347  2019-11    92315  Big Bear Lake  2-5 Units         3   \n",
       "3  AIR10000347  2019-12    92315  Big Bear Lake  2-5 Units         3   \n",
       "4  AIR10000347   2019-2    92315  Big Bear Lake  2-5 Units         3   \n",
       "5  AIR10000347   2019-3    92315  Big Bear Lake  2-5 Units         3   \n",
       "6  AIR10000347   2019-4    92315  Big Bear Lake  2-5 Units         3   \n",
       "7  AIR10000347   2019-5    92315  Big Bear Lake  2-5 Units         3   \n",
       "8  AIR10000347   2019-6    92315  Big Bear Lake  2-5 Units         3   \n",
       "9  AIR10000347   2019-7    92315  Big Bear Lake  2-5 Units         3   \n",
       "\n",
       "   bathrooms guests      revenue  openness    occupancy nightly rate  \\\n",
       "0        2.0     10  13948,75974        31            1  449,9599915   \n",
       "1        2.0     10  449,9599915        31  0,032258065  449,9599915   \n",
       "2        2.0     10            0        30            0          NaN   \n",
       "3        2.0     10  4949,679932        31   0,35483871  449,9709029   \n",
       "4        2.0     10            0        28            0          NaN   \n",
       "5        2.0     10  899,9199829        31  0,064516129  449,9599915   \n",
       "6        2.0     10            0        30            0          NaN   \n",
       "7        2.0     10            0        31            0          NaN   \n",
       "8        2.0     10  11248,99979        30  0,833333333  449,9599915   \n",
       "9        2.0     10  6749,399872        31  0,483870968  449,9599915   \n",
       "\n",
       "  lead time length stay  \n",
       "0         8          65  \n",
       "1         8           1  \n",
       "2       NaN         NaN  \n",
       "3        41         2,4  \n",
       "4       NaN         NaN  \n",
       "5         8           1  \n",
       "6       NaN         NaN  \n",
       "7       NaN         NaN  \n",
       "8         8          39  \n",
       "9         8           1  "
      ]
     },
     "execution_count": 102,
     "metadata": {},
     "output_type": "execute_result"
    }
   ],
   "source": [
    "df.head(10)"
   ]
  },
  {
   "cell_type": "markdown",
   "metadata": {},
   "source": [
    "## Data Cleaning"
   ]
  },
  {
   "cell_type": "markdown",
   "metadata": {},
   "source": [
    "### Drop Unecessary Columns"
   ]
  },
  {
   "cell_type": "markdown",
   "metadata": {},
   "source": [
    "Columns that look useful:\n",
    "unified_id (make sure there are no airbnb's poster multiple times)\n",
    "zipcode (to find most popular location)\n",
    "host_type (to see if most airbnb renters are professionals or individuals)\n",
    "revenue (to find most profitable zipcode for property owners)\n",
    "nightly rate (to find out which zipcodes are most expensive)\n",
    "length stay (to find average length of stay)\n"
   ]
  },
  {
   "cell_type": "code",
   "execution_count": 103,
   "metadata": {},
   "outputs": [
    {
     "data": {
      "text/html": [
       "<div>\n",
       "<style scoped>\n",
       "    .dataframe tbody tr th:only-of-type {\n",
       "        vertical-align: middle;\n",
       "    }\n",
       "\n",
       "    .dataframe tbody tr th {\n",
       "        vertical-align: top;\n",
       "    }\n",
       "\n",
       "    .dataframe thead th {\n",
       "        text-align: right;\n",
       "    }\n",
       "</style>\n",
       "<table border=\"1\" class=\"dataframe\">\n",
       "  <thead>\n",
       "    <tr style=\"text-align: right;\">\n",
       "      <th></th>\n",
       "      <th>unified_id</th>\n",
       "      <th>zipcode</th>\n",
       "      <th>host_type</th>\n",
       "      <th>revenue</th>\n",
       "      <th>nightly rate</th>\n",
       "      <th>length stay</th>\n",
       "    </tr>\n",
       "  </thead>\n",
       "  <tbody>\n",
       "    <tr>\n",
       "      <th>0</th>\n",
       "      <td>AIR10000347</td>\n",
       "      <td>92315</td>\n",
       "      <td>2-5 Units</td>\n",
       "      <td>13948,75974</td>\n",
       "      <td>449,9599915</td>\n",
       "      <td>65</td>\n",
       "    </tr>\n",
       "    <tr>\n",
       "      <th>1</th>\n",
       "      <td>AIR10000347</td>\n",
       "      <td>92315</td>\n",
       "      <td>2-5 Units</td>\n",
       "      <td>449,9599915</td>\n",
       "      <td>449,9599915</td>\n",
       "      <td>1</td>\n",
       "    </tr>\n",
       "    <tr>\n",
       "      <th>2</th>\n",
       "      <td>AIR10000347</td>\n",
       "      <td>92315</td>\n",
       "      <td>2-5 Units</td>\n",
       "      <td>0</td>\n",
       "      <td>NaN</td>\n",
       "      <td>NaN</td>\n",
       "    </tr>\n",
       "    <tr>\n",
       "      <th>3</th>\n",
       "      <td>AIR10000347</td>\n",
       "      <td>92315</td>\n",
       "      <td>2-5 Units</td>\n",
       "      <td>4949,679932</td>\n",
       "      <td>449,9709029</td>\n",
       "      <td>2,4</td>\n",
       "    </tr>\n",
       "    <tr>\n",
       "      <th>4</th>\n",
       "      <td>AIR10000347</td>\n",
       "      <td>92315</td>\n",
       "      <td>2-5 Units</td>\n",
       "      <td>0</td>\n",
       "      <td>NaN</td>\n",
       "      <td>NaN</td>\n",
       "    </tr>\n",
       "  </tbody>\n",
       "</table>\n",
       "</div>"
      ],
      "text/plain": [
       "    unified_id  zipcode  host_type      revenue nightly rate length stay\n",
       "0  AIR10000347    92315  2-5 Units  13948,75974  449,9599915          65\n",
       "1  AIR10000347    92315  2-5 Units  449,9599915  449,9599915           1\n",
       "2  AIR10000347    92315  2-5 Units            0          NaN         NaN\n",
       "3  AIR10000347    92315  2-5 Units  4949,679932  449,9709029         2,4\n",
       "4  AIR10000347    92315  2-5 Units            0          NaN         NaN"
      ]
     },
     "execution_count": 103,
     "metadata": {},
     "output_type": "execute_result"
    }
   ],
   "source": [
    "# Dropping Columns by selecting just what we want\n",
    "# Copy-paste in the list of columns then delete those we don't want\n",
    "df = df[[\"unified_id\", \"zipcode\", \"host_type\", \"revenue\", \"nightly rate\", \"length stay\"]]\n",
    "df.head()"
   ]
  },
  {
   "cell_type": "markdown",
   "metadata": {},
   "source": [
    "\n",
    "### Change string columns with numbers to integers"
   ]
  },
  {
   "cell_type": "code",
   "execution_count": 104,
   "metadata": {},
   "outputs": [],
   "source": [
    "# drop null values in revenue column\n",
    "df = df.loc[df[\"revenue\"].notna()]\n",
    "# drop null values in revenue column\n",
    "df = df.loc[df[\"nightly rate\"].notna()]\n",
    "# drop null values in revenue column\n",
    "df = df.loc[df[\"length stay\"].notna()]"
   ]
  },
  {
   "cell_type": "code",
   "execution_count": 105,
   "metadata": {},
   "outputs": [],
   "source": [
    "\n",
    "# change string columns with numbers to ints\n",
    "df[\"revenue\"] = df[\"revenue\"].str.replace(',', '.').astype(float)\n",
    "df[\"nightly rate\"] = df[\"nightly rate\"].str.replace(',', '.').astype(float)\n",
    "df[\"length stay\"] = df[\"length stay\"].str.replace(',', '.').astype(float)"
   ]
  },
  {
   "cell_type": "markdown",
   "metadata": {},
   "source": [
    "### Group rows by their ID and take the mean their monthly revenues"
   ]
  },
  {
   "cell_type": "code",
   "execution_count": 106,
   "metadata": {},
   "outputs": [],
   "source": [
    "# makes sure there is only one row per unified ID with the properties average revenue\n",
    "df_small = df.groupby(\"unified_id\")[[\"revenue\", \"nightly rate\", \"length stay\", ]].mean()\n"
   ]
  },
  {
   "cell_type": "markdown",
   "metadata": {},
   "source": [
    "### Also group rows by other columns we want to keep"
   ]
  },
  {
   "cell_type": "code",
   "execution_count": 107,
   "metadata": {},
   "outputs": [],
   "source": [
    "df_rest = df.groupby(\"unified_id\")[[\"zipcode\", \"host_type\"]].first()"
   ]
  },
  {
   "cell_type": "markdown",
   "metadata": {},
   "source": [
    "### Combine the groups we have made to explore"
   ]
  },
  {
   "cell_type": "code",
   "execution_count": 108,
   "metadata": {},
   "outputs": [
    {
     "name": "stdout",
     "output_type": "stream",
     "text": [
      "                  revenue  nightly rate  length stay  zipcode      host_type\n",
      "unified_id                                                                  \n",
      "AIR10000347   4949.574910    449.961355    13.925000    92315      2-5 Units\n",
      "AIR10035983   9353.989960    301.741612    45.000000    92315  Single Owners\n",
      "AIR10052559   6127.909044    496.599760     6.857143    92315  Professionals\n",
      "AIR10178668   8568.894974    394.152935     6.879076    92315  Professionals\n",
      "AIR10204420  11126.736616    475.675302     2.665197    92252      2-5 Units\n",
      "...                   ...           ...          ...      ...            ...\n",
      "AIR9959855    5131.132481    277.476292     1.693495    92315  Professionals\n",
      "AIR9960008    6325.777486    327.895149     1.834647    92315  Professionals\n",
      "AIR9976790    7674.483287    388.677514     1.711240    92315  Professionals\n",
      "AIR9986505    6409.169913    340.363838     1.986441    92252      2-5 Units\n",
      "AIR9996370    1351.529163    203.996001     2.267593    92314  Single Owners\n",
      "\n",
      "[2811 rows x 5 columns]\n"
     ]
    }
   ],
   "source": [
    "# Manually combine the two data frames df_small and df_rest\n",
    "result = df_small\n",
    "for col in df_rest.columns:\n",
    "    result[col] = df_rest[col]\n",
    "\n",
    "print(result)"
   ]
  },
  {
   "cell_type": "markdown",
   "metadata": {},
   "source": [
    "## Exploratory Data Analysis / Statistical Analysis"
   ]
  },
  {
   "cell_type": "markdown",
   "metadata": {},
   "source": [
    "### Which zipcode had the highest/lowest/most versatile monthly revenues?"
   ]
  },
  {
   "cell_type": "code",
   "execution_count": 109,
   "metadata": {},
   "outputs": [
    {
     "data": {
      "text/plain": [
       "<Axes: title={'center': 'revenue'}, xlabel='zipcode'>"
      ]
     },
     "execution_count": 109,
     "metadata": {},
     "output_type": "execute_result"
    },
    {
     "data": {
      "image/png": "[encoded data removed]",
      "text/plain": [
       "<Figure size 640x480 with 1 Axes>"
      ]
     },
     "metadata": {},
     "output_type": "display_data"
    }
   ],
   "source": [
    "df.boxplot(column='revenue',by='zipcode')"
   ]
  },
  {
   "cell_type": "code",
   "execution_count": 110,
   "metadata": {},
   "outputs": [
    {
     "name": "stdout",
     "output_type": "stream",
     "text": [
      "             zipcode        revenue\n",
      "unified_id                         \n",
      "AIR25012960    92284  114959.438165\n"
     ]
    },
    {
     "data": {
      "text/html": [
       "<div>\n",
       "<style scoped>\n",
       "    .dataframe tbody tr th:only-of-type {\n",
       "        vertical-align: middle;\n",
       "    }\n",
       "\n",
       "    .dataframe tbody tr th {\n",
       "        vertical-align: top;\n",
       "    }\n",
       "\n",
       "    .dataframe thead th {\n",
       "        text-align: right;\n",
       "    }\n",
       "</style>\n",
       "<table border=\"1\" class=\"dataframe\">\n",
       "  <thead>\n",
       "    <tr style=\"text-align: right;\">\n",
       "      <th></th>\n",
       "      <th>zipcode</th>\n",
       "      <th>revenue</th>\n",
       "    </tr>\n",
       "    <tr>\n",
       "      <th>unified_id</th>\n",
       "      <th></th>\n",
       "      <th></th>\n",
       "    </tr>\n",
       "  </thead>\n",
       "  <tbody>\n",
       "    <tr>\n",
       "      <th>AIR25459712</th>\n",
       "      <td>92284</td>\n",
       "      <td>-4586.953176</td>\n",
       "    </tr>\n",
       "  </tbody>\n",
       "</table>\n",
       "</div>"
      ],
      "text/plain": [
       "             zipcode      revenue\n",
       "unified_id                       \n",
       "AIR25459712    92284 -4586.953176"
      ]
     },
     "execution_count": 110,
     "metadata": {},
     "output_type": "execute_result"
    }
   ],
   "source": [
    "print(result.loc[result[\"revenue\"] == result[\"revenue\"].max()][[\"zipcode\", \"revenue\"]])\n",
    "\n",
    "result.loc[result[\"revenue\"] == result[\"revenue\"].min()][[\"zipcode\", \"revenue\"]]\n",
    "\n"
   ]
  },
  {
   "cell_type": "markdown",
   "metadata": {},
   "source": [
    "### Is there a correlation between host_type (single home, 2-5 units, or professionals) and the amount of revenue made? "
   ]
  },
  {
   "cell_type": "code",
   "execution_count": 111,
   "metadata": {},
   "outputs": [
    {
     "data": {
      "text/plain": [
       "<Axes: title={'center': 'host_type vs revenue'}, xlabel='host_type', ylabel='revenue'>"
      ]
     },
     "execution_count": 111,
     "metadata": {},
     "output_type": "execute_result"
    },
    {
     "data": {
      "image/png": "[encoded data removed]",
      "text/plain": [
       "<Figure size 640x480 with 1 Axes>"
      ]
     },
     "metadata": {},
     "output_type": "display_data"
    }
   ],
   "source": [
    "plt.title(\"host_type vs revenue\")\n",
    "sns.scatterplot(data=df, x=\"host_type\", y=\"revenue\")"
   ]
  },
  {
   "cell_type": "code",
   "execution_count": 112,
   "metadata": {},
   "outputs": [
    {
     "name": "stdout",
     "output_type": "stream",
     "text": [
      "             host_type        revenue\n",
      "unified_id                           \n",
      "AIR25012960  2-5 Units  114959.438165\n"
     ]
    },
    {
     "data": {
      "text/html": [
       "<div>\n",
       "<style scoped>\n",
       "    .dataframe tbody tr th:only-of-type {\n",
       "        vertical-align: middle;\n",
       "    }\n",
       "\n",
       "    .dataframe tbody tr th {\n",
       "        vertical-align: top;\n",
       "    }\n",
       "\n",
       "    .dataframe thead th {\n",
       "        text-align: right;\n",
       "    }\n",
       "</style>\n",
       "<table border=\"1\" class=\"dataframe\">\n",
       "  <thead>\n",
       "    <tr style=\"text-align: right;\">\n",
       "      <th></th>\n",
       "      <th>host_type</th>\n",
       "      <th>revenue</th>\n",
       "    </tr>\n",
       "    <tr>\n",
       "      <th>unified_id</th>\n",
       "      <th></th>\n",
       "      <th></th>\n",
       "    </tr>\n",
       "  </thead>\n",
       "  <tbody>\n",
       "    <tr>\n",
       "      <th>AIR25459712</th>\n",
       "      <td>Professionals</td>\n",
       "      <td>-4586.953176</td>\n",
       "    </tr>\n",
       "  </tbody>\n",
       "</table>\n",
       "</div>"
      ],
      "text/plain": [
       "                 host_type      revenue\n",
       "unified_id                             \n",
       "AIR25459712  Professionals -4586.953176"
      ]
     },
     "execution_count": 112,
     "metadata": {},
     "output_type": "execute_result"
    }
   ],
   "source": [
    "print(result.loc[result[\"revenue\"] == result[\"revenue\"].max()][[\"host_type\", \"revenue\"]])\n",
    "result.loc[result[\"revenue\"] == result[\"revenue\"].min()][[\"host_type\", \"revenue\"]]"
   ]
  },
  {
   "cell_type": "markdown",
   "metadata": {},
   "source": [
    "### How does nightly rate affect the length of stay in California AirBnB’s?"
   ]
  },
  {
   "cell_type": "code",
   "execution_count": 113,
   "metadata": {},
   "outputs": [
    {
     "data": {
      "text/plain": [
       "<Axes: title={'center': 'how nightly rate affects length of stay'}, xlabel='nightly rate', ylabel='length stay'>"
      ]
     },
     "execution_count": 113,
     "metadata": {},
     "output_type": "execute_result"
    },
    {
     "data": {
      "image/png": "[encoded data removed]",
      "text/plain": [
       "<Figure size 640x480 with 1 Axes>"
      ]
     },
     "metadata": {},
     "output_type": "display_data"
    }
   ],
   "source": [
    "plt.title(\"how nightly rate affects length of stay\")\n",
    "sns.scatterplot(data=df, x=\"nightly rate\", y=\"length stay\")"
   ]
  },
  {
   "cell_type": "code",
   "execution_count": 114,
   "metadata": {},
   "outputs": [
    {
     "name": "stdout",
     "output_type": "stream",
     "text": [
      "             zipcode  nightly rate\n",
      "unified_id                        \n",
      "AIR40783673    92252   6965.666667\n",
      "             zipcode  nightly rate\n",
      "unified_id                        \n",
      "AIR25459712    92284   -160.009995\n"
     ]
    },
    {
     "data": {
      "text/plain": [
       "revenue         2\n",
       "nightly rate    2\n",
       "length stay     2\n",
       "zipcode         2\n",
       "host_type       2\n",
       "dtype: int64"
      ]
     },
     "execution_count": 114,
     "metadata": {},
     "output_type": "execute_result"
    }
   ],
   "source": [
    "print(result.loc[result[\"nightly rate\"] == result[\"nightly rate\"].max()][[\"zipcode\", \"nightly rate\"]])\n",
    "\n",
    "print(result.loc[result[\"nightly rate\"] == result[\"nightly rate\"].min()][[\"zipcode\", \"nightly rate\"]])\n",
    "\n",
    "result.loc[result[\"nightly rate\"] < 0].count()\n"
   ]
  }
 ],
 "metadata": {
  "kernelspec": {
   "display_name": ".venv",
   "language": "python",
   "name": "python3"
  },
  "language_info": {
   "codemirror_mode": {
    "name": "ipython",
    "version": 3
   },
   "file_extension": ".py",
   "mimetype": "text/x-python",
   "name": "python",
   "nbconvert_exporter": "python",
   "pygments_lexer": "ipython3",
   "version": "3.11.7"
  },
  "orig_nbformat": 4
 },
 "nbformat": 4,
 "nbformat_minor": 2
}
